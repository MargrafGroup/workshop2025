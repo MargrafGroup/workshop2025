{
 "cells": [
  {
   "cell_type": "code",
   "execution_count": 1,
   "metadata": {},
   "outputs": [],
   "source": [
    "import torch\n",
    "import torch.nn as nn\n",
    "from e3nn import o3"
   ]
  },
  {
   "cell_type": "markdown",
   "metadata": {},
   "source": [
    "# Invarian GNN block"
   ]
  },
  {
   "cell_type": "markdown",
   "metadata": {},
   "source": [
    "Let's set up feature dimension and filter dimension"
   ]
  },
  {
   "cell_type": "code",
   "execution_count": 2,
   "metadata": {},
   "outputs": [],
   "source": [
    "feature_dimension = 8\n",
    "filter_dimension = 16"
   ]
  },
  {
   "cell_type": "markdown",
   "metadata": {},
   "source": [
    "Embedding (here, lets say we have 5 different elements)"
   ]
  },
  {
   "cell_type": "code",
   "execution_count": 3,
   "metadata": {},
   "outputs": [],
   "source": [
    "n_el = 5\n",
    "embeding_block = nn.Embedding(n_el,feature_dimension)\n",
    "element_label = torch.tensor([0])\n",
    "embeding_vector = embeding_block(element_label)"
   ]
  },
  {
   "cell_type": "code",
   "execution_count": 4,
   "metadata": {},
   "outputs": [
    {
     "name": "stdout",
     "output_type": "stream",
     "text": [
      "tensor([[ 0.1977, -1.5485,  0.8426, -0.5883,  0.9012,  0.0845,  1.1442,  0.9870]],\n",
      "       grad_fn=<EmbeddingBackward0>)\n"
     ]
    }
   ],
   "source": [
    "print(embeding_vector)"
   ]
  },
  {
   "cell_type": "markdown",
   "metadata": {},
   "source": [
    "Linear blocks for atom-wise interaction (feature to feature) and feature "
   ]
  },
  {
   "cell_type": "code",
   "execution_count": 5,
   "metadata": {},
   "outputs": [
    {
     "name": "stdout",
     "output_type": "stream",
     "text": [
      "tensor([[ 0.4558,  0.2448, -0.5976,  0.4381, -0.1633,  0.3830, -1.0008,  0.0567,\n",
      "          1.1555,  0.2914, -0.1751,  0.0683,  0.7724,  0.0715, -0.2891, -0.3082]],\n",
      "       grad_fn=<MmBackward0>)\n"
     ]
    }
   ],
   "source": [
    "feature_to_filter = nn.Linear(feature_dimension,filter_dimension,bias=False)\n",
    "filter_vector = feature_to_filter(embeding_vector)\n",
    "print(filter_vector)"
   ]
  },
  {
   "cell_type": "markdown",
   "metadata": {},
   "source": [
    "Activations are as `torch.nn.functional`"
   ]
  },
  {
   "cell_type": "code",
   "execution_count": 6,
   "metadata": {},
   "outputs": [
    {
     "name": "stdout",
     "output_type": "stream",
     "text": [
      "tensor([[ 0.4558,  0.2448, -0.5976,  0.4381, -0.1633,  0.3830, -1.0008,  0.0567,\n",
      "          1.1555,  0.2914, -0.1751,  0.0683,  0.7724,  0.0715, -0.2891, -0.3082]],\n",
      "       grad_fn=<MmBackward0>)\n"
     ]
    }
   ],
   "source": [
    "activated_filter = nn.functional.silu(filter_vector)\n",
    "print(filter_vector)"
   ]
  },
  {
   "cell_type": "markdown",
   "metadata": {},
   "source": [
    "Hint for edge to filter\n",
    "Here I will take just distances from points in the cutoff. Here i will assume that we have two atoms in the distance 3.0 and 2.3 from the center atom"
   ]
  },
  {
   "cell_type": "code",
   "execution_count": 7,
   "metadata": {},
   "outputs": [],
   "source": [
    "offset = torch.linspace(0.0,6,10)\n",
    "d_ij = torch.tensor([3.0,2.3])\n",
    "j = (d_ij.unsqueeze(-1)-offset)"
   ]
  },
  {
   "cell_type": "code",
   "execution_count": 8,
   "metadata": {},
   "outputs": [
    {
     "data": {
      "text/plain": [
       "tensor([[-0.4161,  0.3511, -0.5345, -0.4316,  1.1258,  0.2824,  1.4438,  0.6165,\n",
       "         -1.5535,  1.8052, -0.7393,  1.0474, -0.7737,  0.8231, -0.1093,  2.3561],\n",
       "        [ 0.1373, -0.2141, -0.4644,  0.6984,  0.8378,  0.3657,  1.6618,  0.4207,\n",
       "         -1.2342,  2.4215, -0.9099,  0.9863, -0.7009,  0.7518,  0.8876,  2.3294]],\n",
       "       grad_fn=<AddmmBackward0>)"
      ]
     },
     "execution_count": 8,
     "metadata": {},
     "output_type": "execute_result"
    }
   ],
   "source": [
    "tmp = nn.Linear(10,filter_dimension)\n",
    "tmp(j)"
   ]
  },
  {
   "cell_type": "markdown",
   "metadata": {},
   "source": [
    "Class for the distance RBF"
   ]
  },
  {
   "cell_type": "code",
   "execution_count": 9,
   "metadata": {},
   "outputs": [],
   "source": [
    "class RBFdistance(nn.Module):\n",
    "    def __init__(self,cutoff,n_distances):\n",
    "        super().__init__()\n",
    "        offset = torch.linspace(0.0,cutoff,n_distances)\n",
    "\n",
    "    def forward(self,d_ij):\n",
    "        return d_ij.unsqueeze(-1)-offset\n",
    "        "
   ]
  },
  {
   "cell_type": "markdown",
   "metadata": {},
   "source": [
    "# Basics of e3n"
   ]
  },
  {
   "cell_type": "markdown",
   "metadata": {},
   "source": [
    "`o3` group means no translation.\n",
    "\n",
    " Here I will show some e3nn stuff which won't be really needed, just to see the tensor product behaviour. This was also very heavily influanced by [MACE tutorila](https://colab.research.google.com/drive/1AlfjQETV_jZ0JQnV5M3FGwAM2SGCl2aU#scrollTo=E-lt2fyV_03E) "
   ]
  },
  {
   "cell_type": "markdown",
   "metadata": {},
   "source": [
    "## Basic operation"
   ]
  },
  {
   "cell_type": "markdown",
   "metadata": {},
   "source": [
    "Creation of the irreps is easily done like this"
   ]
  },
  {
   "cell_type": "code",
   "execution_count": 10,
   "metadata": {},
   "outputs": [
    {
     "name": "stdout",
     "output_type": "stream",
     "text": [
      "50\n"
     ]
    }
   ],
   "source": [
    "from e3nn import o3\n",
    "irreps1 = o3.Irreps(\"3x2o+5x3e\")\n",
    "print(irreps1.dim)\n",
    "# you can create a random irreps:\n",
    "my_ir = irreps1.randn(-1,1)\n",
    "my_ir = torch.tensor([0.3 for _ in range(irreps1.dim)])\n",
    "# or you can just create a torch.tensor of the "
   ]
  },
  {
   "cell_type": "markdown",
   "metadata": {},
   "source": [
    "## Spherical harmonics"
   ]
  },
  {
   "cell_type": "markdown",
   "metadata": {},
   "source": [
    "First spherical harmonics needed for the filter"
   ]
  },
  {
   "cell_type": "code",
   "execution_count": 11,
   "metadata": {},
   "outputs": [
    {
     "name": "stdout",
     "output_type": "stream",
     "text": [
      "tensor([ 0.2821,  0.3860,  0.0772,  0.2895,  0.5113,  0.1364, -0.2918,  0.1023,\n",
      "        -0.1491])\n"
     ]
    }
   ],
   "source": [
    "# a function for Ylms where we evaluate for l=0,1,2.\n",
    "spherical_harmonics = o3.SphericalHarmonics([0,1,2], True)\n",
    "\n",
    "# evaulate spherical harmonics on a vector\n",
    "vector = torch.tensor([1.0, 0.2, 0.75])\n",
    "print(spherical_harmonics(vector)) # size if because scalar (1) + vector (3) + tensor (5)"
   ]
  },
  {
   "cell_type": "markdown",
   "metadata": {},
   "source": [
    "# Tensor product\n",
    "Here Is the full tensor product, which at the end won't be used today"
   ]
  },
  {
   "cell_type": "code",
   "execution_count": 12,
   "metadata": {},
   "outputs": [
    {
     "name": "stdout",
     "output_type": "stream",
     "text": [
      "FullTensorProduct(2x0e+3x1o x 5x0e+7x1e -> 21x0o+10x0e+36x1o+14x1e+21x2o | 102 paths | 0 weights)\n"
     ]
    },
    {
     "name": "stderr",
     "output_type": "stream",
     "text": [
      "/home/mvondrak/.pyenv/versions/3.9.19/lib/python3.9/site-packages/torch/jit/_check.py:177: UserWarning: The TorchScript type system doesn't support instance-level annotations on empty non-base types in `__init__`. Instead, either 1) use a type annotation in the class body, or 2) wrap the type in `torch.jit.Attribute`.\n",
      "  warnings.warn(\n"
     ]
    },
    {
     "data": {
      "image/png": "[encoded data removed]",
      "text/plain": [
       "<Figure size 640x480 with 1 Axes>"
      ]
     },
     "metadata": {},
     "output_type": "display_data"
    }
   ],
   "source": [
    "tp = o3.FullTensorProduct(\n",
    "    irreps_in1='2x0e + 3x1o',\n",
    "    irreps_in2='5x0e + 7x1e'\n",
    ")\n",
    "print(tp)\n",
    "tp.visualize();"
   ]
  },
  {
   "cell_type": "markdown",
   "metadata": {},
   "source": [
    "This is how to set up tensor product we will need today"
   ]
  },
  {
   "cell_type": "code",
   "execution_count": 13,
   "metadata": {},
   "outputs": [
    {
     "name": "stdout",
     "output_type": "stream",
     "text": [
      "FullyConnectedTensorProduct(5x0e+5x1e x 6x0e+4x1e -> 15x0e+3x1e | 960 paths | 960 weights)\n"
     ]
    },
    {
     "name": "stderr",
     "output_type": "stream",
     "text": [
      "/home/mvondrak/.pyenv/versions/3.9.19/lib/python3.9/site-packages/torch/jit/_check.py:177: UserWarning: The TorchScript type system doesn't support instance-level annotations on empty non-base types in `__init__`. Instead, either 1) use a type annotation in the class body, or 2) wrap the type in `torch.jit.Attribute`.\n",
      "  warnings.warn(\n"
     ]
    },
    {
     "data": {
      "image/png": "[encoded data removed]",
      "text/plain": [
       "<Figure size 640x480 with 1 Axes>"
      ]
     },
     "metadata": {},
     "output_type": "display_data"
    }
   ],
   "source": [
    "tp = o3.FullyConnectedTensorProduct(\n",
    "    irreps_in1='5x0e + 5x1e',\n",
    "    irreps_in2='6x0e + 4x1e',\n",
    "    irreps_out='15x0e + 3x1e'\n",
    ")\n",
    "print(tp)\n",
    "tp.visualize();"
   ]
  },
  {
   "cell_type": "code",
   "execution_count": 14,
   "metadata": {},
   "outputs": [
    {
     "name": "stdout",
     "output_type": "stream",
     "text": [
      "FullyConnectedTensorProduct(1x1o x 3x0e+1x1o+5x2e -> 3x0e | 3 paths | 3 weights)\n"
     ]
    },
    {
     "name": "stderr",
     "output_type": "stream",
     "text": [
      "/home/mvondrak/.pyenv/versions/3.9.19/lib/python3.9/site-packages/torch/jit/_check.py:177: UserWarning: The TorchScript type system doesn't support instance-level annotations on empty non-base types in `__init__`. Instead, either 1) use a type annotation in the class body, or 2) wrap the type in `torch.jit.Attribute`.\n",
      "  warnings.warn(\n"
     ]
    },
    {
     "data": {
      "text/plain": [
       "(<Figure size 640x480 with 1 Axes>, <Axes: >)"
      ]
     },
     "execution_count": 14,
     "metadata": {},
     "output_type": "execute_result"
    },
    {
     "data": {
      "image/png": "[encoded data removed]",
      "text/plain": [
       "<Figure size 640x480 with 1 Axes>"
      ]
     },
     "metadata": {},
     "output_type": "display_data"
    }
   ],
   "source": [
    "# set up a tensor product.\n",
    "# This does the product of two l=0,1,2 arrays, and maps the result to three l=0 values.\n",
    "tensor_product = o3.FullyConnectedTensorProduct(\n",
    "    irreps_in1=o3.Irreps(\"1x1o\"),\n",
    "    irreps_in2=o3.Irreps(\"3x0e + 1x1o + 5x2e\"),\n",
    "    irreps_out=o3.Irreps(\"3x0e\"),\n",
    "    internal_weights=False\n",
    ")\n",
    "print(tensor_product)\n",
    "tensor_product.visualize()"
   ]
  },
  {
   "cell_type": "code",
   "execution_count": 15,
   "metadata": {},
   "outputs": [],
   "source": [
    "irresp1 = o3.Irreps(\"1x1o\")\n",
    "irresp2 = o3.Irreps(\"3x0e + 1x1o + 5x2e\")\n",
    "# my_irresp1 = irresp1.randn(1,-1)\n",
    "my_irresp1 = torch.tensor([-1.2,0.2,0.3]).unsqueeze(0)\n",
    "my_irresp2 = irresp2.randn(1,-1)"
   ]
  },
  {
   "cell_type": "code",
   "execution_count": 16,
   "metadata": {},
   "outputs": [
    {
     "name": "stdout",
     "output_type": "stream",
     "text": [
      "torch.Size([1, 3])\n",
      "torch.Size([1, 31])\n"
     ]
    }
   ],
   "source": [
    "print(my_irresp1.shape)\n",
    "print(my_irresp2.shape)"
   ]
  },
  {
   "cell_type": "markdown",
   "metadata": {},
   "source": [
    "For convolution you will need to find out how many weights you need. This is different from our invariant case, where this was set up by you, this is dependent on a number of channels and fancy $\\ell$ of irreps. Find it like this: "
   ]
  },
  {
   "cell_type": "code",
   "execution_count": 17,
   "metadata": {},
   "outputs": [
    {
     "name": "stdout",
     "output_type": "stream",
     "text": [
      "FullyConnectedTensorProduct(1x1o x 3x0e+1x1o+5x2e -> 3x0e | 3 paths | 3 weights) needs 3 weights\n"
     ]
    }
   ],
   "source": [
    "print(f\"{tensor_product} needs {tensor_product.weight_numel} weights\")"
   ]
  },
  {
   "cell_type": "code",
   "execution_count": 18,
   "metadata": {},
   "outputs": [
    {
     "name": "stdout",
     "output_type": "stream",
     "text": [
      "torch.Size([2])\n"
     ]
    }
   ],
   "source": [
    "print(torch.arange(1,tensor_product.weight_numel,1).shape)"
   ]
  },
  {
   "cell_type": "code",
   "execution_count": 19,
   "metadata": {},
   "outputs": [
    {
     "name": "stdout",
     "output_type": "stream",
     "text": [
      "invariant outputs: tensor([[[-0.0474, -0.0034, -0.0568]]])\n"
     ]
    }
   ],
   "source": [
    "# product the arrays\n",
    "product = tensor_product(\n",
    "    my_irresp1.unsqueeze(0),\n",
    "    my_irresp2.unsqueeze(0),\n",
    "    weight=torch.rand(tensor_product.weight_numel) # the product has weights which can be trained - here I will just provide them as random, you have to provide filter values\n",
    ")\n",
    "print('invariant outputs:', product)"
   ]
  },
  {
   "cell_type": "markdown",
   "metadata": {},
   "source": [
    "Rotate 1 vector and lets see if the scalar values will change"
   ]
  },
  {
   "cell_type": "code",
   "execution_count": 20,
   "metadata": {},
   "outputs": [
    {
     "data": {
      "text/plain": [
       "tensor(1.2530)"
      ]
     },
     "execution_count": 20,
     "metadata": {},
     "output_type": "execute_result"
    }
   ],
   "source": [
    "R = o3.rand_matrix()\n",
    "torch.linalg.norm(torch.matmul(irresp1.D_from_matrix(R),my_irresp1.T).T)"
   ]
  },
  {
   "cell_type": "code",
   "execution_count": 21,
   "metadata": {},
   "outputs": [
    {
     "data": {
      "text/plain": [
       "tensor(1.2530)"
      ]
     },
     "execution_count": 21,
     "metadata": {},
     "output_type": "execute_result"
    }
   ],
   "source": [
    "torch.linalg.norm(my_irresp1)"
   ]
  },
  {
   "cell_type": "code",
   "execution_count": 22,
   "metadata": {},
   "outputs": [],
   "source": [
    "rot_irreps1 = torch.matmul(irresp1.D_from_matrix(R),my_irresp1.T).T"
   ]
  },
  {
   "cell_type": "code",
   "execution_count": 23,
   "metadata": {},
   "outputs": [
    {
     "name": "stdout",
     "output_type": "stream",
     "text": [
      "different invariant outputs: tensor([[[-0.0133, -0.0947, -0.0788]]])\n"
     ]
    }
   ],
   "source": [
    "# product the arrays\n",
    "product = tensor_product(\n",
    "    my_irresp1.unsqueeze(0),\n",
    "    my_irresp2.unsqueeze(0),\n",
    "    weight=torch.rand(tensor_product.weight_numel) # the product has weights which can be trained - here I will just provide them as random, you have to provide filter values\n",
    ")\n",
    "print('different invariant outputs:', product)"
   ]
  },
  {
   "cell_type": "markdown",
   "metadata": {},
   "source": [
    "### Bilinear\n",
    "- For nerds, this show bilinearity of the tensor product, we can discuss it but it is not needed\n",
    "$$\n",
    "(\\alpha x_1 + x_2) \\otimes y = \\alpha x_1 \\otimes y + x_2 \\otimes y \n",
    "\\quad \\text{and} \\quad \n",
    "x \\otimes (\\alpha y_1 + y_2) = \\alpha x \\otimes y_1 + x \\otimes y_2\n",
    "$$ "
   ]
  },
  {
   "cell_type": "code",
   "execution_count": 24,
   "metadata": {},
   "outputs": [
    {
     "name": "stdout",
     "output_type": "stream",
     "text": [
      "Check TP(a1 + a2, b1) == TP(a1, b1) + TP(a2, b1): True\n",
      "Check TP(a1, b1 + b2) == TP(a1, b1) + TP(a1, b2): True\n"
     ]
    },
    {
     "name": "stderr",
     "output_type": "stream",
     "text": [
      "/home/mvondrak/.pyenv/versions/3.9.19/lib/python3.9/site-packages/torch/jit/_check.py:177: UserWarning: The TorchScript type system doesn't support instance-level annotations on empty non-base types in `__init__`. Instead, either 1) use a type annotation in the class body, or 2) wrap the type in `torch.jit.Attribute`.\n",
      "  warnings.warn(\n"
     ]
    }
   ],
   "source": [
    "import torch\n",
    "from e3nn.o3 import Irreps, TensorProduct\n",
    "\n",
    "\n",
    "irreps_in1 = Irreps(\"1x0e + 1x1e\")\n",
    "irreps_in2 = Irreps(\"1x0e + 1x1e\")\n",
    "irreps_out = Irreps(\"1x0e + 1x1e\")\n",
    "\n",
    "tp = o3.FullTensorProduct(irreps_in1, irreps_in2)\n",
    "\n",
    "a1 = irreps_in1.randn(1,-1)\n",
    "a2 = irreps_in1.randn(1,-1)\n",
    "b1 = irreps_in2.randn(1,-1)\n",
    "b2 = irreps_in2.randn(1,-1)\n",
    "\n",
    "lhs1 = tp(a1 + a2, b1)\n",
    "rhs1 = tp(a1, b1) + tp(a2, b1)\n",
    "\n",
    "lhs2 = tp(a1, b1 + b2)\n",
    "rhs2 = tp(a1, b1) + tp(a1, b2)\n",
    "\n",
    "print(\"Check TP(a1 + a2, b1) == TP(a1, b1) + TP(a2, b1):\", torch.allclose(lhs1, rhs1))\n",
    "print(\"Check TP(a1, b1 + b2) == TP(a1, b1) + TP(a1, b2):\", torch.allclose(lhs2, rhs2))\n"
   ]
  },
  {
   "cell_type": "markdown",
   "metadata": {},
   "source": [
    "Different D matrices for pseudo vector and vector"
   ]
  },
  {
   "cell_type": "markdown",
   "metadata": {},
   "source": [
    "irresp1 = o3.Irreps(\"1x1o\")"
   ]
  },
  {
   "cell_type": "code",
   "execution_count": 25,
   "metadata": {},
   "outputs": [],
   "source": [
    "inversion_matrix = -torch.eye(3)\n",
    "\n",
    "\n",
    "D_pseudovector = o3.Irreps(\"1e\").D_from_matrix(inversion_matrix)  \n",
    "D_vector = o3.Irreps(\"1o\").D_from_matrix(inversion_matrix)"
   ]
  },
  {
   "cell_type": "code",
   "execution_count": 26,
   "metadata": {},
   "outputs": [
    {
     "name": "stdout",
     "output_type": "stream",
     "text": [
      "No change after the inversion\n",
      " tensor([[1., 0., 0.],\n",
      "        [0., 1., 0.],\n",
      "        [0., 0., 1.]])\n",
      "Change after the inversion\n",
      " tensor([[-1., -0., -0.],\n",
      "        [-0., -1., -0.],\n",
      "        [-0., -0., -1.]])\n"
     ]
    }
   ],
   "source": [
    "print(\"No change after the inversion\\n\",D_pseudovector)\n",
    "print(\"Change after the inversion\\n\",D_vector)"
   ]
  },
  {
   "cell_type": "code",
   "execution_count": null,
   "metadata": {},
   "outputs": [],
   "source": []
  }
 ],
 "metadata": {
  "kernelspec": {
   "display_name": "3.9.19",
   "language": "python",
   "name": "python3"
  },
  "language_info": {
   "codemirror_mode": {
    "name": "ipython",
    "version": 3
   },
   "file_extension": ".py",
   "mimetype": "text/x-python",
   "name": "python",
   "nbconvert_exporter": "python",
   "pygments_lexer": "ipython3",
   "version": "3.9.19"
  }
 },
 "nbformat": 4,
 "nbformat_minor": 2
}
