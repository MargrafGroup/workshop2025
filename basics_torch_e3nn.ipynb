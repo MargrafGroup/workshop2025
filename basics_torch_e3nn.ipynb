{
 "cells": [
  {
   "cell_type": "code",
   "execution_count": 1,
   "metadata": {},
   "outputs": [],
   "source": [
    "import torch\n",
    "import torch.nn as nn\n",
    "from e3nn import o3"
   ]
  },
  {
   "cell_type": "markdown",
   "metadata": {},
   "source": [
    "# Invarian GNN block"
   ]
  },
  {
   "cell_type": "markdown",
   "metadata": {},
   "source": [
    "Let's set up feature dimension and filter dimension"
   ]
  },
  {
   "cell_type": "code",
   "execution_count": 2,
   "metadata": {},
   "outputs": [],
   "source": [
    "feature_dimension = 8\n",
    "filter_dimension = 16"
   ]
  },
  {
   "cell_type": "markdown",
   "metadata": {},
   "source": [
    "Embedding (here, lets say we have 5 different elements)"
   ]
  },
  {
   "cell_type": "code",
   "execution_count": 3,
   "metadata": {},
   "outputs": [],
   "source": [
    "n_el = 5\n",
    "embeding_block = nn.Embedding(n_el,feature_dimension)\n",
    "element_label = torch.tensor([0])\n",
    "embeding_vector = embeding_block(element_label)"
   ]
  },
  {
   "cell_type": "code",
   "execution_count": null,
   "metadata": {},
   "outputs": [],
   "source": [
    "print(embeding_vector)"
   ]
  },
  {
   "cell_type": "markdown",
   "metadata": {},
   "source": [
    "Linear blocks for atom-wise interaction (feature to feature) and feature "
   ]
  },
  {
   "cell_type": "code",
   "execution_count": null,
   "metadata": {},
   "outputs": [],
   "source": [
    "feature_to_filter = nn.Linear(feature_dimension,filter_dimension,bias=False)\n",
    "filter_vector = feature_to_filter(embeding_vector)\n",
    "print(filter_vector)"
   ]
  },
  {
   "cell_type": "markdown",
   "metadata": {},
   "source": [
    "Activations are as `torch.nn.functional`"
   ]
  },
  {
   "cell_type": "code",
   "execution_count": null,
   "metadata": {},
   "outputs": [],
   "source": [
    "activated_filter = nn.functional.silu(filter_vector)\n",
    "print(filter_vector)"
   ]
  },
  {
   "cell_type": "markdown",
   "metadata": {},
   "source": [
    "Hint for edge to filter\n",
    "Here I will take just distances from points in the cutoff. Here i will assume that we have two atoms in the distance 3.0 and 2.3 from the center atom"
   ]
  },
  {
   "cell_type": "code",
   "execution_count": 7,
   "metadata": {},
   "outputs": [],
   "source": [
    "offset = torch.linspace(0.0,6,10)\n",
    "d_ij = torch.tensor([3.0,2.3])\n",
    "j = (d_ij.unsqueeze(-1)-offset)"
   ]
  },
  {
   "cell_type": "code",
   "execution_count": null,
   "metadata": {},
   "outputs": [],
   "source": [
    "tmp = nn.Linear(10,filter_dimension)\n",
    "tmp(j)"
   ]
  },
  {
   "cell_type": "markdown",
   "metadata": {},
   "source": [
    "Class for the distance RBF"
   ]
  },
  {
   "cell_type": "code",
   "execution_count": 9,
   "metadata": {},
   "outputs": [],
   "source": [
    "class RBFdistance(nn.Module):\n",
    "    def __init__(self,cutoff,n_distances):\n",
    "        super().__init__()\n",
    "        offset = torch.linspace(0.0,cutoff,n_distances)\n",
    "\n",
    "    def forward(self,d_ij):\n",
    "        return d_ij.unsqueeze(-1)-offset\n",
    "        "
   ]
  },
  {
   "cell_type": "markdown",
   "metadata": {},
   "source": [
    "# Basics of e3n"
   ]
  },
  {
   "cell_type": "markdown",
   "metadata": {},
   "source": [
    "`o3` group means no translation.\n",
    "\n",
    " Here I will show some e3nn stuff which won't be really needed, just to see the tensor product behaviour. This was also very heavily influanced by [MACE tutorila](https://colab.research.google.com/drive/1AlfjQETV_jZ0JQnV5M3FGwAM2SGCl2aU#scrollTo=E-lt2fyV_03E) "
   ]
  },
  {
   "cell_type": "markdown",
   "metadata": {},
   "source": [
    "## Basic operation"
   ]
  },
  {
   "cell_type": "markdown",
   "metadata": {},
   "source": [
    "Creation of the irreps is easily done like this"
   ]
  },
  {
   "cell_type": "code",
   "execution_count": null,
   "metadata": {},
   "outputs": [],
   "source": [
    "from e3nn import o3\n",
    "irreps1 = o3.Irreps(\"3x2o+5x3e\")\n",
    "print(irreps1.dim)\n",
    "# you can create a random irreps:\n",
    "my_ir = irreps1.randn(-1,1)\n",
    "my_ir = torch.tensor([0.3 for _ in range(irreps1.dim)])\n",
    "# or you can just create a torch.tensor of the "
   ]
  },
  {
   "cell_type": "markdown",
   "metadata": {},
   "source": [
    "## Spherical harmonics"
   ]
  },
  {
   "cell_type": "markdown",
   "metadata": {},
   "source": [
    "First spherical harmonics needed for the filter"
   ]
  },
  {
   "cell_type": "code",
   "execution_count": null,
   "metadata": {},
   "outputs": [],
   "source": [
    "# a function for Ylms where we evaluate for l=0,1,2.\n",
    "spherical_harmonics = o3.SphericalHarmonics([0,1,2], True)\n",
    "\n",
    "# evaulate spherical harmonics on a vector\n",
    "vector = torch.tensor([1.0, 0.2, 0.75])\n",
    "print(spherical_harmonics(vector)) # size if because scalar (1) + vector (3) + tensor (5)"
   ]
  },
  {
   "cell_type": "markdown",
   "metadata": {},
   "source": [
    "# Tensor product\n",
    "Here Is the full tensor product, which at the end won't be used today"
   ]
  },
  {
   "cell_type": "code",
   "execution_count": null,
   "metadata": {},
   "outputs": [],
   "source": [
    "tp = o3.FullTensorProduct(\n",
    "    irreps_in1='2x0e + 3x1o',\n",
    "    irreps_in2='5x0e + 7x1e'\n",
    ")\n",
    "print(tp)\n",
    "tp.visualize();"
   ]
  },
  {
   "cell_type": "markdown",
   "metadata": {},
   "source": [
    "This is how to set up tensor product we will need today"
   ]
  },
  {
   "cell_type": "code",
   "execution_count": null,
   "metadata": {},
   "outputs": [],
   "source": [
    "tp = o3.FullyConnectedTensorProduct(\n",
    "    irreps_in1='5x0e + 5x1e',\n",
    "    irreps_in2='6x0e + 4x1e',\n",
    "    irreps_out='15x0e + 3x1e'\n",
    ")\n",
    "print(tp)\n",
    "tp.visualize();"
   ]
  },
  {
   "cell_type": "code",
   "execution_count": null,
   "metadata": {},
   "outputs": [],
   "source": [
    "# set up a tensor product.\n",
    "# This does the product of two l=0,1,2 arrays, and maps the result to three l=0 values.\n",
    "tensor_product = o3.FullyConnectedTensorProduct(\n",
    "    irreps_in1=o3.Irreps(\"1x1o\"),\n",
    "    irreps_in2=o3.Irreps(\"3x0e + 1x1o + 5x2e\"),\n",
    "    irreps_out=o3.Irreps(\"3x0e\"),\n",
    "    internal_weights=False\n",
    ")\n",
    "print(tensor_product)\n",
    "tensor_product.visualize()"
   ]
  },
  {
   "cell_type": "code",
   "execution_count": 15,
   "metadata": {},
   "outputs": [],
   "source": [
    "irresp1 = o3.Irreps(\"1x1o\")\n",
    "irresp2 = o3.Irreps(\"3x0e + 1x1o + 5x2e\")\n",
    "# my_irresp1 = irresp1.randn(1,-1)\n",
    "my_irresp1 = torch.tensor([-1.2,0.2,0.3]).unsqueeze(0)\n",
    "my_irresp2 = irresp2.randn(1,-1)"
   ]
  },
  {
   "cell_type": "code",
   "execution_count": null,
   "metadata": {},
   "outputs": [],
   "source": [
    "print(my_irresp1.shape)\n",
    "print(my_irresp2.shape)"
   ]
  },
  {
   "cell_type": "markdown",
   "metadata": {},
   "source": [
    "For convolution you will need to find out how many weights you need. This is different from our invariant case, where this was set up by you, this is dependent on a number of channels and fancy $\\ell$ of irreps. Find it like this: "
   ]
  },
  {
   "cell_type": "code",
   "execution_count": null,
   "metadata": {},
   "outputs": [],
   "source": [
    "print(f\"{tensor_product} needs {tensor_product.weight_numel} weights\")"
   ]
  },
  {
   "cell_type": "code",
   "execution_count": null,
   "metadata": {},
   "outputs": [],
   "source": [
    "print(torch.arange(1,tensor_product.weight_numel,1).shape)"
   ]
  },
  {
   "cell_type": "code",
   "execution_count": null,
   "metadata": {},
   "outputs": [],
   "source": [
    "# product the arrays\n",
    "product = tensor_product(\n",
    "    my_irresp1.unsqueeze(0),\n",
    "    my_irresp2.unsqueeze(0),\n",
    "    weight=torch.rand(tensor_product.weight_numel) # the product has weights which can be trained - here I will just provide them as random, you have to provide filter values\n",
    ")\n",
    "print('invariant outputs:', product)"
   ]
  },
  {
   "cell_type": "markdown",
   "metadata": {},
   "source": [
    "Rotate 1 vector and lets see if the scalar values will change"
   ]
  },
  {
   "cell_type": "code",
   "execution_count": null,
   "metadata": {},
   "outputs": [],
   "source": [
    "R = o3.rand_matrix()\n",
    "torch.linalg.norm(torch.matmul(irresp1.D_from_matrix(R),my_irresp1.T).T)"
   ]
  },
  {
   "cell_type": "code",
   "execution_count": null,
   "metadata": {},
   "outputs": [],
   "source": [
    "torch.linalg.norm(my_irresp1)"
   ]
  },
  {
   "cell_type": "code",
   "execution_count": 22,
   "metadata": {},
   "outputs": [],
   "source": [
    "rot_irreps1 = torch.matmul(irresp1.D_from_matrix(R),my_irresp1.T).T"
   ]
  },
  {
   "cell_type": "code",
   "execution_count": null,
   "metadata": {},
   "outputs": [],
   "source": [
    "# product the arrays\n",
    "product = tensor_product(\n",
    "    my_irresp1.unsqueeze(0),\n",
    "    my_irresp2.unsqueeze(0),\n",
    "    weight=torch.rand(tensor_product.weight_numel) # the product has weights which can be trained - here I will just provide them as random, you have to provide filter values\n",
    ")\n",
    "print('invariant outputs:', product)"
   ]
  },
  {
   "cell_type": "markdown",
   "metadata": {},
   "source": [
    "- Create irrep"
   ]
  },
  {
   "cell_type": "code",
   "execution_count": 24,
   "metadata": {},
   "outputs": [],
   "source": [
    "irreps = o3.Irreps(\"1x1e\")"
   ]
  },
  {
   "cell_type": "code",
   "execution_count": 25,
   "metadata": {},
   "outputs": [],
   "source": [
    "ir1 = irreps.randn(1,-1)\n",
    "ir2 = irreps.randn(1,-1)"
   ]
  },
  {
   "cell_type": "markdown",
   "metadata": {},
   "source": [
    "Tensor products are bilinear and equivariant"
   ]
  },
  {
   "cell_type": "code",
   "execution_count": null,
   "metadata": {},
   "outputs": [],
   "source": [
    "full_tp = o3.FullTensorProduct(\"1x1e\",\"1x1e\")"
   ]
  },
  {
   "cell_type": "markdown",
   "metadata": {},
   "source": [
    "Getting invariant product that changes with non-invariant information"
   ]
  },
  {
   "cell_type": "code",
   "execution_count": null,
   "metadata": {},
   "outputs": [],
   "source": [
    "# set up a tensor product.\n",
    "# This does the product of two l=0,1,2 arrays, and maps the result to three l=0 values.\n",
    "tensor_product = o3.FullyConnectedTensorProduct(\n",
    "    irreps_in1=o3.Irreps(\"1x0e + 1x1o + 1x2e\"),\n",
    "    irreps_in2=o3.Irreps(\"1x0e + 1x1o + 1x2e\"),\n",
    "    irreps_out=o3.Irreps(\"3x0e\"),\n",
    "    internal_weights=False\n",
    ")\n",
    "print(tensor_product)\n",
    "tensor_product.visualize()"
   ]
  },
  {
   "cell_type": "markdown",
   "metadata": {},
   "source": [
    "### Bilinear\n",
    "- For nerds, this show bilinearity of the tensor product, we can discuss it but it is not needed\n",
    "$$\n",
    "(\\alpha x_1 + x_2) \\otimes y = \\alpha x_1 \\otimes y + x_2 \\otimes y \n",
    "\\quad \\text{and} \\quad \n",
    "x \\otimes (\\alpha y_1 + y_2) = \\alpha x \\otimes y_1 + x \\otimes y_2\n",
    "$$ "
   ]
  },
  {
   "cell_type": "code",
   "execution_count": null,
   "metadata": {},
   "outputs": [],
   "source": [
    "import torch\n",
    "from e3nn.o3 import Irreps, TensorProduct\n",
    "\n",
    "\n",
    "irreps_in1 = Irreps(\"1x0e + 1x1e\")\n",
    "irreps_in2 = Irreps(\"1x0e + 1x1e\")\n",
    "irreps_out = Irreps(\"1x0e + 1x1e\")\n",
    "\n",
    "tp = o3.FullTensorProduct(irreps_in1, irreps_in2)\n",
    "\n",
    "a1 = irreps_in1.randn(1,-1)\n",
    "a2 = irreps_in1.randn(1,-1)\n",
    "b1 = irreps_in2.randn(1,-1)\n",
    "b2 = irreps_in2.randn(1,-1)\n",
    "\n",
    "lhs1 = tp(a1 + a2, b1)\n",
    "rhs1 = tp(a1, b1) + tp(a2, b1)\n",
    "\n",
    "lhs2 = tp(a1, b1 + b2)\n",
    "rhs2 = tp(a1, b1) + tp(a1, b2)\n",
    "\n",
    "print(\"Check TP(a1 + a2, b1) == TP(a1, b1) + TP(a2, b1):\", torch.allclose(lhs1, rhs1))\n",
    "print(\"Check TP(a1, b1 + b2) == TP(a1, b1) + TP(a1, b2):\", torch.allclose(lhs2, rhs2))\n"
   ]
  },
  {
   "cell_type": "markdown",
   "metadata": {},
   "source": [
    "Different D matrices for pseudo vector and vector"
   ]
  },
  {
   "cell_type": "markdown",
   "metadata": {},
   "source": [
    "irresp1 = o3.Irreps(\"1x1o\")"
   ]
  },
  {
   "cell_type": "code",
   "execution_count": 29,
   "metadata": {},
   "outputs": [],
   "source": [
    "inversion_matrix = -torch.eye(3)\n",
    "\n",
    "\n",
    "D_pseudovector = o3.Irreps(\"1e\").D_from_matrix(inversion_matrix)  \n",
    "D_vector = o3.Irreps(\"1o\").D_from_matrix(inversion_matrix)"
   ]
  },
  {
   "cell_type": "code",
   "execution_count": null,
   "metadata": {},
   "outputs": [],
   "source": [
    "print(\"No change after the inversion\\n\",D_pseudovector)\n",
    "print(\"Change after the inversion\\n\",D_vector)"
   ]
  },
  {
   "cell_type": "code",
   "execution_count": null,
   "metadata": {},
   "outputs": [],
   "source": []
  }
 ],
 "metadata": {
  "kernelspec": {
   "display_name": "3.9.19",
   "language": "python",
   "name": "python3"
  },
  "language_info": {
   "codemirror_mode": {
    "name": "ipython",
    "version": 3
   },
   "file_extension": ".py",
   "mimetype": "text/x-python",
   "name": "python",
   "nbconvert_exporter": "python",
   "pygments_lexer": "ipython3",
   "version": "3.9.19"
  }
 },
 "nbformat": 4,
 "nbformat_minor": 2
}
